{
 "cells": [
  {
   "cell_type": "code",
   "execution_count": 37,
   "metadata": {},
   "outputs": [],
   "source": [
    "import numpy as np\n",
    "import pandas as pd\n",
    "\n",
    "def naive_bayes_train(X, y):\n",
    "    # Calcular las probabilidades previas de cada clase\n",
    "    labels, label_counts = np.unique(y, return_counts=True)\n",
    "    prior_probs = label_counts / len(y)\n",
    "    priors = dict(zip(labels, prior_probs)) # Se mapea cada etiqueta con su probabilidad previa\n",
    "\n",
    "    # Calcular las probabilidades condicionales para cada atributo dado cada clase\n",
    "    cond_probs = {}\n",
    "    for label in labels:\n",
    "        subset = X[y == label] # Se filtra los datos para la clase actual\n",
    "        features_probs = {}\n",
    "        for col in X.columns:\n",
    "            levels, counts = np.unique(subset[col], return_counts=True) \n",
    "            probs = counts / counts.sum() # Probabilidad de cada valor del atributo dentro de la clase\n",
    "            features_probs[col] = dict(zip(levels, probs))\n",
    "        cond_probs[label] = features_probs # Se mapea la clase con las probabilidades de sus atributos\n",
    "\n",
    "    return priors, cond_probs\n",
    "\n",
    "def naive_bayes_predict(X, priors, cond_probs):\n",
    "    predictions = []\n",
    "    for _, row in X.iterrows(): # Iterar sobre cada instancia para hacer predicciones\n",
    "        label_probs = {}\n",
    "        for label, features_probs in cond_probs.items():\n",
    "            total_prob = np.log(priors[label]) \n",
    "            for feature, value in row.items():\n",
    "                feature_probs = features_probs.get(feature, {})\n",
    "                prob = feature_probs.get(value, 1e-6)  # Laplace smoothing para valores no vistos\n",
    "                total_prob += np.log(prob)\n",
    "            label_probs[label] = total_prob\n",
    "        predictions.append(max(label_probs, key=label_probs.get)) # Escoger la clase con mayor probabilidad\n",
    "    return predictions"
   ]
  },
  {
   "cell_type": "code",
   "execution_count": 38,
   "metadata": {},
   "outputs": [],
   "source": [
    "def simple_cross_validate(data, target, k=10):\n",
    "    folds = np.array_split(data.sample(frac=1, random_state=42), k) # Dividir datos aleatoriamente en k partes\n",
    "    accuracies = []\n",
    "\n",
    "    for i in range(k):\n",
    "        train = pd.concat([folds[j] for j in range(k) if j != i])\n",
    "        test = folds[i]\n",
    "        priors, cond_probs = naive_bayes_train(train.drop(target, axis=1), train[target]) # Entrenar modelo\n",
    "        predictions = naive_bayes_predict(test.drop(target, axis=1), priors, cond_probs)\n",
    "        accuracy = np.mean(predictions == test[target])\n",
    "        accuracies.append(accuracy)\n",
    "\n",
    "    return np.mean(accuracies), np.std(accuracies)"
   ]
  },
  {
   "cell_type": "code",
   "execution_count": 39,
   "metadata": {},
   "outputs": [],
   "source": [
    "def stratified_cross_validate(data, target, k=10):\n",
    "    data = data.sample(frac=1, random_state=42).reset_index(drop=True) # Barajea los datos\n",
    "    proportions = data[target].value_counts(normalize=True) # Proporciones de cada clase\n",
    "    folds = [pd.DataFrame() for _ in range(k)]\n",
    "\n",
    "     # Estratificar datos por clase\n",
    "    for _, group_data in data.groupby(target):\n",
    "        group_folds = np.array_split(group_data, k)\n",
    "        for i in range(k):\n",
    "            folds[i] = pd.concat([folds[i], group_folds[i]], ignore_index=True)\n",
    "\n",
    "    accuracies = []\n",
    "    for i in range(k):\n",
    "        train = pd.concat([folds[j] for j in range(k) if j != i], ignore_index=True)\n",
    "        test = folds[i]\n",
    "        priors, cond_probs = naive_bayes_train(train.drop(target, axis=1), train[target]) # Entrenar modelo\n",
    "        predictions = naive_bayes_predict(test.drop(target, axis=1), priors, cond_probs)\n",
    "        accuracy = np.mean(predictions == test[target])\n",
    "        accuracies.append(accuracy)\n",
    "\n",
    "    return np.mean(accuracies), np.std(accuracies)"
   ]
  },
  {
   "cell_type": "code",
   "execution_count": 40,
   "metadata": {},
   "outputs": [
    {
     "name": "stdout",
     "output_type": "stream",
     "text": [
      "Simple CV - Mean Accuracy: 0.9400, Std Deviation: 0.0554\n",
      "Stratified CV - Mean Accuracy: 0.9333, Std Deviation: 0.0667\n"
     ]
    },
    {
     "name": "stderr",
     "output_type": "stream",
     "text": [
      "c:\\Users\\Carlo\\AppData\\Local\\Programs\\Python\\Python312\\Lib\\site-packages\\numpy\\core\\fromnumeric.py:59: FutureWarning: 'DataFrame.swapaxes' is deprecated and will be removed in a future version. Please use 'DataFrame.transpose' instead.\n",
      "  return bound(*args, **kwds)\n",
      "c:\\Users\\Carlo\\AppData\\Local\\Programs\\Python\\Python312\\Lib\\site-packages\\numpy\\core\\fromnumeric.py:59: FutureWarning: 'DataFrame.swapaxes' is deprecated and will be removed in a future version. Please use 'DataFrame.transpose' instead.\n",
      "  return bound(*args, **kwds)\n"
     ]
    }
   ],
   "source": [
    "data = pd.read_csv(\"C:\\\\Users\\\\Carlo\\\\Desktop\\\\IA\\\\segundo semestre\\\\apredizaje automatico\\\\tarea\\\\base de datos discretizadas\\\\discretized_iris.csv\")\n",
    "\n",
    "# Ejecutar la validación cruzada simple\n",
    "mean_accuracy, std_deviation = simple_cross_validate(data, 'class')\n",
    "print(f\"Simple CV - Mean Accuracy: {mean_accuracy:.4f}, Std Deviation: {std_deviation:.4f}\")\n",
    "\n",
    "# Ejecutar la validación cruzada estratificada\n",
    "mean_accuracy, std_deviation = stratified_cross_validate(data, 'class')\n",
    "print(f\"Stratified CV - Mean Accuracy: {mean_accuracy:.4f}, Std Deviation: {std_deviation:.4f}\")\n"
   ]
  }
 ],
 "metadata": {
  "kernelspec": {
   "display_name": "Python 3",
   "language": "python",
   "name": "python3"
  },
  "language_info": {
   "codemirror_mode": {
    "name": "ipython",
    "version": 3
   },
   "file_extension": ".py",
   "mimetype": "text/x-python",
   "name": "python",
   "nbconvert_exporter": "python",
   "pygments_lexer": "ipython3",
   "version": "3.12.1"
  }
 },
 "nbformat": 4,
 "nbformat_minor": 2
}
