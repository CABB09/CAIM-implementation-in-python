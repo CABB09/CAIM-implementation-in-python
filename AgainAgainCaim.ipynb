{
 "cells": [
  {
   "cell_type": "code",
   "execution_count": 36,
   "metadata": {},
   "outputs": [],
   "source": [
    "import pandas as pd\n",
    "import numpy as np\n",
    "\n",
    "def calculate_caim(quanta_matrix):\n",
    "    max_values = np.max(quanta_matrix, axis=0)\n",
    "    sums = np.sum(quanta_matrix, axis=0)\n",
    "    # Evitar la división por cero y situaciones de indeterminación matemática\n",
    "    caim = np.sum((max_values ** 2) / np.where(sums == 0, 1, sums)) / len(sums) if np.sum(sums) != 0 else 0\n",
    "    return caim\n",
    "\n",
    "\n",
    "def create_quanta_matrix(data, attribute, intervals, classes, class_label):\n",
    "    quanta_matrix = np.zeros((len(classes), len(intervals) - 1))\n",
    "    for idx, cl in enumerate(classes):\n",
    "        class_data = data[data[class_label] == cl][attribute]\n",
    "        for i in range(1, len(intervals)):\n",
    "            quanta_matrix[idx, i - 1] = class_data[(class_data >= intervals[i - 1]) & (class_data < intervals[i])].count()\n",
    "    return quanta_matrix\n",
    "\n",
    "def caim_discretization(data, attribute, class_label):\n",
    "    values = data[attribute].dropna().unique()\n",
    "    classes = data[class_label].unique()\n",
    "    print(f'Classes found: {classes}')  # Imprimir las clases encontradas\n",
    "\n",
    "    min_value = np.min(values)\n",
    "    max_value = np.max(values)\n",
    "    values_sorted = np.sort(values)\n",
    "    mid_points = (values_sorted[:-1] + values_sorted[1:]) / 2\n",
    "    boundaries = np.concatenate(([min_value], mid_points, [max_value]))\n",
    "    intervals = [min_value, max_value]\n",
    "\n",
    "    global_caim = 0\n",
    "\n",
    "    while True:\n",
    "        best_caim = global_caim\n",
    "        best_interval = None\n",
    "\n",
    "        for boundary in boundaries:\n",
    "            if boundary not in intervals:\n",
    "                test_intervals = sorted(intervals + [boundary])\n",
    "                quanta_matrix = create_quanta_matrix(data, attribute, test_intervals, classes, class_label)\n",
    "                caim_value = calculate_caim(quanta_matrix)\n",
    "\n",
    "                if caim_value > best_caim:\n",
    "                    best_caim = caim_value\n",
    "                    best_interval = boundary\n",
    "\n",
    "        if best_interval is not None and best_caim > global_caim:\n",
    "            intervals.append(best_interval)\n",
    "            intervals = sorted(intervals)\n",
    "            global_caim = best_caim\n",
    "        else:\n",
    "            break\n",
    "\n",
    "    data[attribute] = pd.cut(data[attribute], bins=intervals, labels=range(len(intervals) - 1), include_lowest=True, right=True)\n",
    "    return intervals"
   ]
  },
  {
   "cell_type": "code",
   "execution_count": 56,
   "metadata": {},
   "outputs": [
    {
     "name": "stdout",
     "output_type": "stream",
     "text": [
      "Index(['fixed acidity', 'volatile acidity', 'citric acid', 'residual sugar',\n",
      "       'chlorides', 'free sulfur dioxide', 'total sulfur dioxide', 'density',\n",
      "       'pH', 'sulphates', 'alcohol', 'quality'],\n",
      "      dtype='object')\n"
     ]
    }
   ],
   "source": [
    "data = pd.read_csv(\"C:\\\\Users\\\\Carlo\\\\Desktop\\\\IA\\\\segundo semestre\\\\apredizaje automatico\\\\tarea\\\\bases de datos\\\\winequality-white.csv\")\n",
    "print(data.columns)"
   ]
  },
  {
   "cell_type": "code",
   "execution_count": 57,
   "metadata": {},
   "outputs": [
    {
     "name": "stdout",
     "output_type": "stream",
     "text": [
      "Classes found: [6 5 7 8 4 3 9]\n",
      "Classes found: [6 5 7 8 4 3 9]\n",
      "Classes found: [6 5 7 8 4 3 9]\n",
      "Classes found: [6 5 7 8 4 3 9]\n",
      "Classes found: [6 5 7 8 4 3 9]\n",
      "Classes found: [6 5 7 8 4 3 9]\n",
      "Classes found: [6 5 7 8 4 3 9]\n",
      "Classes found: [6 5 7 8 4 3 9]\n",
      "Classes found: [6 5 7 8 4 3 9]\n",
      "Classes found: [6 5 7 8 4 3 9]\n",
      "Classes found: [6 5 7 8 4 3 9]\n",
      "Intervalos para fixed acidity: [3.8, 8.55, 14.2]\n",
      "Intervalos para volatile acidity: [0.08, 0.3025, 1.1]\n",
      "Intervalos para citric acid: [0.0, 0.195, 1.66]\n",
      "Intervalos para residual sugar: [0.6, 17.65, 65.8]\n",
      "Intervalos para chlorides: [0.009, 0.0495, 0.346]\n",
      "Intervalos para free sulfur dioxide: [2.0, 13.5, 289.0]\n",
      "Intervalos para total sulfur dioxide: [9.0, 172.5, 440.0]\n",
      "Intervalos para density: [0.98711, 0.995735, 1.03898]\n",
      "Intervalos para pH: [2.72, 3.1950000000000003, 3.82]\n",
      "Intervalos para sulphates: [0.22, 0.325, 1.08]\n",
      "Intervalos para alcohol: [8.0, 9.5166666665, 14.2]\n"
     ]
    }
   ],
   "source": [
    "# Especifica manualmente las columnas de atributos y la columna de clase\n",
    "attributes = ['fixed acidity', 'volatile acidity', 'citric acid', 'residual sugar',\n",
    "       'chlorides', 'free sulfur dioxide', 'total sulfur dioxide', 'density',\n",
    "       'pH', 'sulphates', 'alcohol']\n",
    "class_label = 'quality'\n",
    "# Se eliminan las filas que contengan valores NaN en la columna 'class' y se actualiza\n",
    "data = data.dropna(subset=[class_label]) \n",
    "\n",
    "# Aplicar la discretización CAIM a cada atributo especificado\n",
    "discretization_results = {}\n",
    "for attribute in attributes:\n",
    "    intervals = caim_discretization(data, attribute, class_label)\n",
    "    discretization_results[attribute] = intervals\n",
    "\n",
    "# Imprimir los resultados\n",
    "for attribute, intervals in discretization_results.items():\n",
    "    print(f\"Intervalos para {attribute}: {intervals}\")"
   ]
  },
  {
   "cell_type": "code",
   "execution_count": 58,
   "metadata": {},
   "outputs": [],
   "source": [
    "data.to_csv('discretized_winequality-white.csv', index=False)"
   ]
  }
 ],
 "metadata": {
  "kernelspec": {
   "display_name": "Python 3",
   "language": "python",
   "name": "python3"
  },
  "language_info": {
   "codemirror_mode": {
    "name": "ipython",
    "version": 3
   },
   "file_extension": ".py",
   "mimetype": "text/x-python",
   "name": "python",
   "nbconvert_exporter": "python",
   "pygments_lexer": "ipython3",
   "version": "3.12.1"
  }
 },
 "nbformat": 4,
 "nbformat_minor": 2
}
